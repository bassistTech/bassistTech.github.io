{
 "cells": [
  {
   "cell_type": "markdown",
   "id": "ce6468d0",
   "metadata": {},
   "source": [
    "# Francis Deck, Bassist\n",
    "\n",
    "## String Bass | Electric Bass\n",
    "\n",
    "<img style=\"float: left;\" src=\"img/francisbw2.png\">"
   ]
  },
  {
   "cell_type": "markdown",
   "id": "79bce814",
   "metadata": {},
   "source": [
    "### Are you looking for HPF-Pre? Click here: https://sites.google.com/site/hpftechllc/\n",
    "\n",
    "*You played great, as always. You have a natural ear, plus good knowledge, and your jokes are sometimes marginal* -- Dan Barker"
   ]
  },
  {
   "cell_type": "markdown",
   "id": "5d862c65",
   "metadata": {},
   "source": [
    "## Music\n",
    "Thanks for visiting my page. If you're looking for a versatile upright or electric bassist you've come to the right place! My experience includes three decades of freelance jazz gigs, symphonic and chamber groups, pit orchestras, ethnic dance bands, and so forth. I offer a complete range of skills, including fluent sight-reading, improvisation, knowledge of the standard jazz repertoire, and simply being easy to deal with.\n",
    "\n",
    "I moved to Madison in 1997, and have played with numerous local groups, on a regular or freelance basis. Presently, I play with the Madison Jazz Orchestra, Inside Pocket, Swingtime Music.\n",
    "\n",
    "## Electronics and Speakers\n",
    "Related to music, I'm an electronics and audio hobbyist. As I accumulate results, if they're interesting, then I write them up to share. Often, I find that writing a brief report helps me critique my own ideas, and also attracts helpful comments that improve my knowledge.\n",
    "\n",
    "## Professional\n",
    "By day, I'm a senior staff scientist with Thermo Fisher Scientific Corp., the world leader in serving science. It's a great place to work. I have a PhD in physics, 20 patents, and extensive experience in development of optical and electronic instrumentation systems. Many of my projects involve combinations of optics, electronics, embedded systems, and software development."
   ]
  },
  {
   "cell_type": "markdown",
   "id": "41d7ff5b",
   "metadata": {},
   "source": [
    "## Blog, Articles, Projects\n",
    "\n",
    "**1/17/2023** [Optical Ray Tracing (GitHub repo)](https://github.com/bassistTech/rayTrace): This is a primitive optical ray tracing program, in the form of a Jupyter notebook. \n",
    "\n",
    "**1/3/2023**: [Measuring Noise](measuring-noise/measuring-noise.html) and [low-noise test amplifier](measuring-noise/low-noise-test-amplifier.html). These articles document my technique for measuring very low levels of electronic noise using mainstream hardware and software. I used this setup to test a new design.\n",
    "\n",
    "**Older stuff**:\n",
    "\n",
    "[Speaker Theory (GitHub repo)](https://github.com/bassistTech/SpeakerTheory): I've always been interested in how gear works, including speakers. For years, comments on forums would say things like: \"Speakers work in this way or that way, because of the physics.\" I always wondered: What physics?\n",
    "\n",
    "I decided to derive the basic electromagnetic theory of sealed and ported speakers from scratch. Here's what I've learned so far. There are two links here. The first is to a GitHub page with \"source code\" for my derivations, in case you want to do calculations yourself. The second is a PDF of my article in case anybody just wants to read it.\n",
    "\n",
    "Admittedly, it's not very readable. I need to go back and improve it! If you just want to read the article, [here's a PDF](https://github.com/bassistTech/SpeakerTheory/blob/master/SpeakerTheory.pdf)\n",
    "\n",
    "[12-inch bass speaker design article](12-in-bass-speaker/index.html): I built this speaker in 2006, and it's still alive and kicking. I've included a brief technical write-up and sketches of construction plans. It uses an Eminence DeltaLite 2512-ii driver, which is one of the first neodymium-magnet drivers suitable for bass speaker use. Newer drivers outperform the 2512-ii in terms of power handling, but what I've got is more than I'll ever need for all of my gig work.\n",
    "\n",
    "[4th order high pass filter](4th-order-active-filter/index.html): This circuit was an early prototype for HPF-Pre Series 3, but I chose to proceed with an op amp circuit instead. So I'm sharing this strange but true discrete filter design here.\n",
    "\n",
    "[Bare-bones bass blender](bare-bones-bass-blender/index.html): This is another prototype for something that I decided not to commercialize at the time. It's a two channel preamp / mixer with active bass and treble controls, and additional features.\n",
    "\n",
    "[JFET bass preamp](JFET-bass-preamp/index.html): A complete bass preamp using discrete JFET circuitry: Gain, bass, treble, mid with variable center frequency, and volume.\n",
    "\n",
    "[Online speaker modeling program](speakerjs/speaker.html): A basic modeling program for the bass response of sealed and ported speakers. It's written in Javascript, runs in your browser, and is fully open source. The math comes from my project to derive the equations for speaker modeling from scratch."
   ]
  },
  {
   "cell_type": "code",
   "execution_count": 3,
   "id": "435fabc1",
   "metadata": {},
   "outputs": [
    {
     "name": "stderr",
     "output_type": "stream",
     "text": [
      "[NbConvertApp] Converting notebook ./index.ipynb to html\n",
      "[NbConvertApp] Writing 278881 bytes to index.html\n"
     ]
    }
   ],
   "source": [
    "# Code for converting this document to HTML\n",
    "# Need to save document first\n",
    "!jupyter nbconvert --to html --template classic ./index.ipynb"
   ]
  },
  {
   "cell_type": "code",
   "execution_count": null,
   "id": "5d5b18cb",
   "metadata": {},
   "outputs": [],
   "source": []
  }
 ],
 "metadata": {
  "kernelspec": {
   "display_name": "Python 3 (ipykernel)",
   "language": "python",
   "name": "python3"
  },
  "language_info": {
   "codemirror_mode": {
    "name": "ipython",
    "version": 3
   },
   "file_extension": ".py",
   "mimetype": "text/x-python",
   "name": "python",
   "nbconvert_exporter": "python",
   "pygments_lexer": "ipython3",
   "version": "3.11.0"
  }
 },
 "nbformat": 4,
 "nbformat_minor": 5
}
