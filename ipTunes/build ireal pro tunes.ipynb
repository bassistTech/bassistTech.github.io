{
 "cells": [
  {
   "cell_type": "markdown",
   "id": "10def2e3-7362-4755-a172-87f103822d99",
   "metadata": {},
   "source": [
    "iRealPro file format documented here:\n",
    "\n",
    "https://www.irealpro.com/ireal-pro-file-format\n",
    "\n"
   ]
  },
  {
   "cell_type": "code",
   "execution_count": 2,
   "id": "a72becce-fa18-4088-a58d-b0d2d2566f29",
   "metadata": {},
   "outputs": [],
   "source": [
    "def iRealTune(title, last, first, style, key, chords):\n",
    "    #f'Results of the {year} {event}'\n",
    "    return f'<a href=\"irealbook://{title}={last} {first}={style}={key}=n={chords}\">{title}</a>'"
   ]
  },
  {
   "cell_type": "code",
   "execution_count": 3,
   "id": "82d02063-2c42-48bd-90dc-3efcf72509b2",
   "metadata": {},
   "outputs": [
    {
     "data": {
      "text/plain": [
       "'<a href=\"irealbook://A Walkin Thing=Carter Benny=Medium Swing=D-=n={*AT44D- D-/C |Bh7, Bb7(A7b9) |D-/A G-7 |D-/F sEh,A7,|Y|lD- D-/C |Bh7, Bb7(A7b9) |D-/A G-7 |N1D-/F sEh,A7} Y|N2sD-,G-,lD- ][*BC-7 F7 |Bb^7 |C-7 F7 |Bb^7 n ||C-7 F7 |Bb^7 |B-7 E7 |A7,p,p,p,][*AD- D-/C |Bh7, Bb7(A7b9) |D-/A G-7 |D-/F sEh,A7,||lD- D-/C |Bh7, Bb7(A7b9) |D-/A G-7 |D-/F sEh,A7Z\">A Walkin Thing</a>'"
      ]
     },
     "execution_count": 3,
     "metadata": {},
     "output_type": "execute_result"
    }
   ],
   "source": [
    "chords = '''\n",
    "{*AT44D- D-/C |Bh7, Bb7(A7b9) |D-/A G-7 |D-/F sEh,A7,|Y\n",
    "|lD- D-/C |Bh7, Bb7(A7b9) |D-/A G-7 |N1D-/F sEh,A7} Y\n",
    "|N2sD-,G-,lD- ]\n",
    "[*BC-7 F7 |Bb^7 |C-7 F7 |Bb^7 n |\n",
    "|C-7 F7 |Bb^7 |B-7 E7 |A7,p,p,p,]\n",
    "[*AD- D-/C |Bh7, Bb7(A7b9) |D-/A G-7 |D-/F sEh,A7,|\n",
    "|lD- D-/C |Bh7, Bb7(A7b9) |D-/A G-7 |D-/F sEh,A7Z'''\n",
    "iRealTune('A Walkin Thing', 'Carter', 'Benny', 'Medium Swing', 'D-', chords)"
   ]
  },
  {
   "cell_type": "code",
   "execution_count": null,
   "id": "c9da8bc3-bf4e-42c8-98e7-a502b9e2bff0",
   "metadata": {},
   "outputs": [],
   "source": [
    "chords = '''\n",
    "T44{ | | | | | | | } [Bb-7/Ab | Gb7 | Db+7/F | Eb7 | Eb-7/Db | C-7b5 | Eb-7/Bb | F7/A |\n",
    "Db-7/Ab | Gb+7 | Db69/F | Eb7 | Bb-7/Db | C-7b5 | Eb-7/Bb | F7/AZ'''\n",
    "iRealTune('Sky Turning Grey', 'Mehldau', 'B"
   ]
  }
 ],
 "metadata": {
  "kernelspec": {
   "display_name": "Python 3 (ipykernel)",
   "language": "python",
   "name": "python3"
  },
  "language_info": {
   "codemirror_mode": {
    "name": "ipython",
    "version": 3
   },
   "file_extension": ".py",
   "mimetype": "text/x-python",
   "name": "python",
   "nbconvert_exporter": "python",
   "pygments_lexer": "ipython3",
   "version": "3.10.5"
  }
 },
 "nbformat": 4,
 "nbformat_minor": 5
}
